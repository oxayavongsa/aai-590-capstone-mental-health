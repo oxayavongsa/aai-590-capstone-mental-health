{
  "cells": [
    {
      "cell_type": "markdown",
      "metadata": {
        "colab_type": "text",
        "id": "view-in-github"
      },
      "source": [
        "<a href=\"https://colab.research.google.com/github/oxayavongsa/aai-590-capstone-mental-health/blob/main/split_preprocessing.ipynb\" target=\"_parent\"><img src=\"https://colab.research.google.com/assets/colab-badge.svg\" alt=\"Open In Colab\"/></a>"
      ]
    },
    {
      "cell_type": "markdown",
      "metadata": {
        "id": "Z6mEPJVRcPMO"
      },
      "source": [
        "## Split Data\n",
        "To prevent data leakage, we seperate the target then split the data prior to preprocessing."
      ]
    },
    {
      "cell_type": "code",
      "execution_count": 1,
      "metadata": {
        "id": "zkrCCzJ3brJl"
      },
      "outputs": [],
      "source": [
        "import pandas as pd\n",
        "from sklearn.model_selection import train_test_split\n",
        "from sklearn.preprocessing import LabelEncoder\n",
        "from sklearn.preprocessing import StandardScaler"
      ]
    },
    {
      "cell_type": "code",
      "execution_count": 3,
      "metadata": {
        "colab": {
          "base_uri": "https://localhost:8080/"
        },
        "id": "jfE2cwTadKxY",
        "outputId": "717402b9-16ea-4c78-9c8d-8bbb31c7bc1f"
      },
      "outputs": [
        {
          "data": {
            "text/plain": [
              "Index(['Timestamp', 'Gender', 'Country', 'Occupation', 'self_employed',\n",
              "       'family_history', 'treatment', 'Days_Indoors', 'Growing_Stress',\n",
              "       'Changes_Habits', 'Mental_Health_History', 'Mood_Swings',\n",
              "       'Coping_Struggles', 'Work_Interest', 'Social_Weakness',\n",
              "       'mental_health_interview', 'care_options', 'risk_label'],\n",
              "      dtype='object')"
            ]
          },
          "execution_count": 3,
          "metadata": {},
          "output_type": "execute_result"
        }
      ],
      "source": [
        "# Load the cleaned mental health data with risk labels\n",
        "# file_path = \"aai-590-capstone-mental-health/data-assets/cleaned_mental_health_data.csv\"\n",
        "file_path = \"./data-assets/cleaned_mental_health_data.csv\"\n",
        "df = pd.read_csv(file_path)\n",
        "df.columns"
      ]
    },
    {
      "cell_type": "code",
      "execution_count": 4,
      "metadata": {
        "colab": {
          "base_uri": "https://localhost:8080/"
        },
        "id": "wyHd4L3huCh3",
        "outputId": "67955204-b892-4aea-efdf-7dba68660853"
      },
      "outputs": [
        {
          "data": {
            "text/plain": [
              "(260986, 18)"
            ]
          },
          "execution_count": 4,
          "metadata": {},
          "output_type": "execute_result"
        }
      ],
      "source": [
        "df.shape"
      ]
    },
    {
      "cell_type": "code",
      "execution_count": 5,
      "metadata": {
        "id": "o00swD2teXCo"
      },
      "outputs": [],
      "source": [
        "# Separate target first\n",
        "target_col = 'risk_label'\n",
        "y = df[target_col]\n",
        "X = df.drop(columns=[target_col])"
      ]
    },
    {
      "cell_type": "code",
      "execution_count": 6,
      "metadata": {
        "colab": {
          "base_uri": "https://localhost:8080/"
        },
        "id": "XpRKW645eaBg",
        "outputId": "2a275592-a42a-4285-e135-82a20173dda4"
      },
      "outputs": [
        {
          "name": "stdout",
          "output_type": "stream",
          "text": [
            "Train set: (182690, 17), Test set: (78296, 17)\n"
          ]
        }
      ],
      "source": [
        "# Split before encoding\n",
        "X_train, X_test, y_train, y_test = train_test_split(\n",
        "    X, y, test_size=0.3, random_state=42, stratify=y\n",
        ")\n",
        "\n",
        "print(f\"Train set: {X_train.shape}, Test set: {X_test.shape}\")"
      ]
    },
    {
      "cell_type": "markdown",
      "metadata": {
        "id": "YqIstDVdtyrL"
      },
      "source": [
        "## Preprocess Data"
      ]
    },
    {
      "cell_type": "code",
      "execution_count": 7,
      "metadata": {
        "colab": {
          "base_uri": "https://localhost:8080/"
        },
        "id": "K_u1gho5hiwd",
        "outputId": "94ef2598-ff6e-49c5-8fe8-7dc65e28330c"
      },
      "outputs": [
        {
          "name": "stdout",
          "output_type": "stream",
          "text": [
            "Encoding completed\n"
          ]
        }
      ],
      "source": [
        "# Label encode features\n",
        "label_encoders = {}\n",
        "for col in X_train.select_dtypes(include='object').columns:\n",
        "    le = LabelEncoder()\n",
        "    X_train[col] = le.fit_transform(X_train[col])\n",
        "    X_test[col] = le.transform(X_test[col])  # Use same mapping\n",
        "    label_encoders[col] = le\n",
        "\n",
        "# Encode target\n",
        "if y_train.dtype == 'object':\n",
        "    target_encoder = LabelEncoder()\n",
        "    y_train = target_encoder.fit_transform(y_train)\n",
        "    y_test = target_encoder.transform(y_test)\n",
        "\n",
        "print(\"Encoding completed\")"
      ]
    },
    {
      "cell_type": "code",
      "execution_count": 9,
      "metadata": {},
      "outputs": [
        {
          "data": {
            "text/plain": [
              "Timestamp                  int32\n",
              "Gender                     int32\n",
              "Country                    int32\n",
              "Occupation                 int32\n",
              "self_employed              int32\n",
              "family_history             int32\n",
              "treatment                  int32\n",
              "Days_Indoors               int32\n",
              "Growing_Stress             int32\n",
              "Changes_Habits             int32\n",
              "Mental_Health_History      int32\n",
              "Mood_Swings                int32\n",
              "Coping_Struggles           int32\n",
              "Work_Interest              int32\n",
              "Social_Weakness            int32\n",
              "mental_health_interview    int32\n",
              "care_options               int32\n",
              "dtype: object"
            ]
          },
          "execution_count": 9,
          "metadata": {},
          "output_type": "execute_result"
        }
      ],
      "source": [
        "X_train.dtypes"
      ]
    },
    {
      "cell_type": "code",
      "execution_count": 11,
      "metadata": {
        "colab": {
          "base_uri": "https://localhost:8080/",
          "height": 556
        },
        "id": "8ljcLrPvmue5",
        "outputId": "07374eeb-00d8-4b2b-98f6-6922824d66b1"
      },
      "outputs": [
        {
          "name": "stdout",
          "output_type": "stream",
          "text": [
            "Numerical columns:\n",
            "- Timestamp\n",
            "- Gender\n",
            "- Country\n",
            "- Occupation\n",
            "- self_employed\n",
            "- family_history\n",
            "- treatment\n",
            "- Days_Indoors\n",
            "- Growing_Stress\n",
            "- Changes_Habits\n",
            "- Mental_Health_History\n",
            "- Mood_Swings\n",
            "- Coping_Struggles\n",
            "- Work_Interest\n",
            "- Social_Weakness\n",
            "- mental_health_interview\n",
            "- care_options\n"
          ]
        },
        {
          "data": {
            "text/html": [
              "<div>\n",
              "<style scoped>\n",
              "    .dataframe tbody tr th:only-of-type {\n",
              "        vertical-align: middle;\n",
              "    }\n",
              "\n",
              "    .dataframe tbody tr th {\n",
              "        vertical-align: top;\n",
              "    }\n",
              "\n",
              "    .dataframe thead th {\n",
              "        text-align: right;\n",
              "    }\n",
              "</style>\n",
              "<table border=\"1\" class=\"dataframe\">\n",
              "  <thead>\n",
              "    <tr style=\"text-align: right;\">\n",
              "      <th></th>\n",
              "      <th>Timestamp</th>\n",
              "      <th>Gender</th>\n",
              "      <th>Country</th>\n",
              "      <th>Occupation</th>\n",
              "      <th>self_employed</th>\n",
              "      <th>family_history</th>\n",
              "      <th>treatment</th>\n",
              "      <th>Days_Indoors</th>\n",
              "      <th>Growing_Stress</th>\n",
              "      <th>Changes_Habits</th>\n",
              "      <th>Mental_Health_History</th>\n",
              "      <th>Mood_Swings</th>\n",
              "      <th>Coping_Struggles</th>\n",
              "      <th>Work_Interest</th>\n",
              "      <th>Social_Weakness</th>\n",
              "      <th>mental_health_interview</th>\n",
              "      <th>care_options</th>\n",
              "    </tr>\n",
              "  </thead>\n",
              "  <tbody>\n",
              "    <tr>\n",
              "      <th>198840</th>\n",
              "      <td>40</td>\n",
              "      <td>1</td>\n",
              "      <td>8</td>\n",
              "      <td>2</td>\n",
              "      <td>0</td>\n",
              "      <td>1</td>\n",
              "      <td>1</td>\n",
              "      <td>0</td>\n",
              "      <td>2</td>\n",
              "      <td>1</td>\n",
              "      <td>0</td>\n",
              "      <td>1</td>\n",
              "      <td>0</td>\n",
              "      <td>1</td>\n",
              "      <td>1</td>\n",
              "      <td>1</td>\n",
              "      <td>2</td>\n",
              "    </tr>\n",
              "    <tr>\n",
              "      <th>66941</th>\n",
              "      <td>126</td>\n",
              "      <td>1</td>\n",
              "      <td>9</td>\n",
              "      <td>2</td>\n",
              "      <td>0</td>\n",
              "      <td>0</td>\n",
              "      <td>0</td>\n",
              "      <td>2</td>\n",
              "      <td>0</td>\n",
              "      <td>1</td>\n",
              "      <td>0</td>\n",
              "      <td>1</td>\n",
              "      <td>0</td>\n",
              "      <td>1</td>\n",
              "      <td>1</td>\n",
              "      <td>1</td>\n",
              "      <td>0</td>\n",
              "    </tr>\n",
              "    <tr>\n",
              "      <th>88246</th>\n",
              "      <td>347</td>\n",
              "      <td>1</td>\n",
              "      <td>9</td>\n",
              "      <td>0</td>\n",
              "      <td>1</td>\n",
              "      <td>1</td>\n",
              "      <td>1</td>\n",
              "      <td>2</td>\n",
              "      <td>0</td>\n",
              "      <td>2</td>\n",
              "      <td>1</td>\n",
              "      <td>1</td>\n",
              "      <td>1</td>\n",
              "      <td>0</td>\n",
              "      <td>1</td>\n",
              "      <td>1</td>\n",
              "      <td>2</td>\n",
              "    </tr>\n",
              "    <tr>\n",
              "      <th>4058</th>\n",
              "      <td>516</td>\n",
              "      <td>0</td>\n",
              "      <td>8</td>\n",
              "      <td>2</td>\n",
              "      <td>0</td>\n",
              "      <td>1</td>\n",
              "      <td>1</td>\n",
              "      <td>3</td>\n",
              "      <td>1</td>\n",
              "      <td>0</td>\n",
              "      <td>0</td>\n",
              "      <td>1</td>\n",
              "      <td>0</td>\n",
              "      <td>0</td>\n",
              "      <td>1</td>\n",
              "      <td>0</td>\n",
              "      <td>2</td>\n",
              "    </tr>\n",
              "    <tr>\n",
              "      <th>62721</th>\n",
              "      <td>245</td>\n",
              "      <td>1</td>\n",
              "      <td>9</td>\n",
              "      <td>3</td>\n",
              "      <td>0</td>\n",
              "      <td>0</td>\n",
              "      <td>0</td>\n",
              "      <td>0</td>\n",
              "      <td>0</td>\n",
              "      <td>2</td>\n",
              "      <td>2</td>\n",
              "      <td>1</td>\n",
              "      <td>0</td>\n",
              "      <td>1</td>\n",
              "      <td>0</td>\n",
              "      <td>1</td>\n",
              "      <td>1</td>\n",
              "    </tr>\n",
              "  </tbody>\n",
              "</table>\n",
              "</div>"
            ],
            "text/plain": [
              "        Timestamp  Gender  Country  Occupation  self_employed  family_history  \\\n",
              "198840         40       1        8           2              0               1   \n",
              "66941         126       1        9           2              0               0   \n",
              "88246         347       1        9           0              1               1   \n",
              "4058          516       0        8           2              0               1   \n",
              "62721         245       1        9           3              0               0   \n",
              "\n",
              "        treatment  Days_Indoors  Growing_Stress  Changes_Habits  \\\n",
              "198840          1             0               2               1   \n",
              "66941           0             2               0               1   \n",
              "88246           1             2               0               2   \n",
              "4058            1             3               1               0   \n",
              "62721           0             0               0               2   \n",
              "\n",
              "        Mental_Health_History  Mood_Swings  Coping_Struggles  Work_Interest  \\\n",
              "198840                      0            1                 0              1   \n",
              "66941                       0            1                 0              1   \n",
              "88246                       1            1                 1              0   \n",
              "4058                        0            1                 0              0   \n",
              "62721                       2            1                 0              1   \n",
              "\n",
              "        Social_Weakness  mental_health_interview  care_options  \n",
              "198840                1                        1             2  \n",
              "66941                 1                        1             0  \n",
              "88246                 1                        1             2  \n",
              "4058                  1                        0             2  \n",
              "62721                 0                        1             1  "
            ]
          },
          "metadata": {},
          "output_type": "display_data"
        }
      ],
      "source": [
        "# Identify and display numerical columns in X_train\n",
        "numeric_cols = X_train.select_dtypes(include=['int32', 'float64']).columns\n",
        "print(\"Numerical columns:\")\n",
        "for col in numeric_cols:\n",
        "    print(\"-\", col)\n",
        "\n",
        "# Display numerical columns in X_train\n",
        "numeric_cols = X_train.select_dtypes(include=['int32', 'float64'])\n",
        "display(numeric_cols.head())"
      ]
    },
    {
      "cell_type": "code",
      "execution_count": 12,
      "metadata": {
        "colab": {
          "base_uri": "https://localhost:8080/"
        },
        "id": "mmxdNpjss_dX",
        "outputId": "125e95cc-ff12-44c1-ca5b-5a6e83002b0a"
      },
      "outputs": [
        {
          "name": "stdout",
          "output_type": "stream",
          "text": [
            "Numerical columns scaled successfully.\n"
          ]
        }
      ],
      "source": [
        "# Scaling / Normalization (Numerical Columns)\n",
        "scaler = StandardScaler()\n",
        "X_train[numeric_cols.columns] = scaler.fit_transform(X_train[numeric_cols.columns])\n",
        "X_test[numeric_cols.columns] = scaler.transform(X_test[numeric_cols.columns])\n",
        "\n",
        "print(\"Numerical columns scaled successfully.\")"
      ]
    },
    {
      "cell_type": "code",
      "execution_count": 13,
      "metadata": {
        "id": "ESBKr9FqtN63"
      },
      "outputs": [],
      "source": [
        "# Save preprocessed datasets\n",
        "# X_train.to_csv(\"aai-590-capstone-mental-health/data-assets/X_train_encoded_scaled.csv\", index=False)\n",
        "# X_test.to_csv(\"aai-590-capstone-mental-health/data-assets/X_test_encoded_scaled.csv\", index=False)\n",
        "# pd.DataFrame(y_train).to_csv(\"aai-590-capstone-mental-health/data-assets/y_train.csv\", index=False)\n",
        "# pd.DataFrame(y_test).to_csv(\"aai-590-capstone-mental-health/data-assets/y_test.csv\", index=False)\n",
        "X_train.to_csv(\"./data-assets/X_train_encoded_scaled.csv\", index=False)\n",
        "X_test.to_csv(\"./data-assets/X_test_encoded_scaled.csv\", index=False)\n",
        "pd.DataFrame(y_train).to_csv(\"./data-assets/y_train.csv\", index=False)\n",
        "pd.DataFrame(y_test).to_csv(\"./data-assets/y_test.csv\", index=False)"
      ]
    },
    {
      "cell_type": "code",
      "execution_count": 14,
      "metadata": {
        "colab": {
          "base_uri": "https://localhost:8080/"
        },
        "id": "Q6ckYt8atVkg",
        "outputId": "68a18cff-590e-43c9-9b73-04fe37584957"
      },
      "outputs": [
        {
          "name": "stdout",
          "output_type": "stream",
          "text": [
            "X_train shape: (182690, 17)\n",
            "X_test shape: (78296, 17)\n",
            "y_train shape: (182690,)\n",
            "y_test shape: (78296,)\n"
          ]
        }
      ],
      "source": [
        "print(\"X_train shape:\", X_train.shape)\n",
        "print(\"X_test shape:\", X_test.shape)\n",
        "print(\"y_train shape:\", y_train.shape)\n",
        "print(\"y_test shape:\", y_test.shape)"
      ]
    },
    {
      "cell_type": "code",
      "execution_count": null,
      "metadata": {},
      "outputs": [],
      "source": []
    }
  ],
  "metadata": {
    "colab": {
      "authorship_tag": "ABX9TyPoGXZ+YiMY5HZg3VFGorBj",
      "include_colab_link": true,
      "provenance": []
    },
    "kernelspec": {
      "display_name": "TensorFlow",
      "language": "python",
      "name": "python3"
    },
    "language_info": {
      "codemirror_mode": {
        "name": "ipython",
        "version": 3
      },
      "file_extension": ".py",
      "mimetype": "text/x-python",
      "name": "python",
      "nbconvert_exporter": "python",
      "pygments_lexer": "ipython3",
      "version": "3.9.18"
    }
  },
  "nbformat": 4,
  "nbformat_minor": 0
}
