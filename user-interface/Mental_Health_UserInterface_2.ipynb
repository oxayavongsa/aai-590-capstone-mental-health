{
  "nbformat": 4,
  "nbformat_minor": 0,
  "metadata": {
    "colab": {
      "provenance": [],
      "machine_shape": "hm",
      "gpuType": "A100"
    },
    "kernelspec": {
      "name": "python3",
      "display_name": "Python 3"
    },
    "language_info": {
      "name": "python"
    },
    "accelerator": "GPU"
  },
  "cells": [
    {
      "cell_type": "markdown",
      "source": [
        "### Mental Health Risk Assessment UI with Model Integration"
      ],
      "metadata": {
        "id": "Xpisa2MPSPbN"
      }
    },
    {
      "cell_type": "code",
      "source": [
        "# Gradio App Code\n",
        "\n",
        "import numpy as np\n",
        "import pandas as pd\n",
        "import matplotlib.pyplot as plt\n",
        "import io\n",
        "import base64\n",
        "import gradio as gr\n",
        "import random\n",
        "\n",
        "# Simulated models (replace with real models in production)\n",
        "feature_names = [\"Growing Stress\", \"Mood Swings\", \"Social Weakness\"]\n",
        "lr_coef = np.array([0.4, 0.3, 0.3])\n",
        "tt_coef = np.array([0.35, 0.25, 0.4])\n",
        "\n",
        "# Simulate dynamic probabilities\n",
        "def simulate_proba(inputs):\n",
        "    total = sum(inputs) + 0.01\n",
        "    prob_low = max(0.0, 1 - total / 12)\n",
        "    prob_high = min(1.0, total / 12)\n",
        "    prob_med = 1 - prob_low - prob_high\n",
        "    return [round(prob_low, 2), round(prob_med, 2), round(prob_high, 2)]\n",
        "\n",
        "# Plot bar chart as image string\n",
        "def plot_contributions(contribs, feature_names):\n",
        "    fig, ax = plt.subplots()\n",
        "    colors = []\n",
        "    for c in contribs:\n",
        "        if c >= 0.5:\n",
        "            colors.append(\"red\")\n",
        "        elif c >= 0.25:\n",
        "            colors.append(\"orange\")\n",
        "        else:\n",
        "            colors.append(\"green\")\n",
        "    bars = ax.bar(feature_names, contribs, color=colors)\n",
        "    for bar in bars:\n",
        "        height = bar.get_height()\n",
        "        ax.text(bar.get_x() + bar.get_width()/2., height + 0.02, f'{height:.2f}', ha='center', fontsize=10)\n",
        "    ax.set_ylabel(\"Contribution Score\")\n",
        "    ax.set_title(\"Risk Contribution by Factor\")\n",
        "    plt.ylim(0, 1)\n",
        "\n",
        "    buf = io.BytesIO()\n",
        "    plt.savefig(buf, format=\"png\")\n",
        "    buf.seek(0)\n",
        "    img_base64 = base64.b64encode(buf.getvalue()).decode()\n",
        "    plt.close(fig)\n",
        "    return f\"<img src='data:image/png;base64,{img_base64}'/>\"\n",
        "\n",
        "# Main prediction function\n",
        "def predict_risk_final(stress, mood, social, model_choice):\n",
        "    inputs = np.array([stress, mood, social])\n",
        "\n",
        "    if model_choice == \"Logistic Regression\":\n",
        "        contrib_raw = inputs * lr_coef\n",
        "    else:\n",
        "        contrib_raw = inputs * tt_coef\n",
        "\n",
        "    contribs = contrib_raw / (np.sum(contrib_raw) + 0.001)  # avoid zero division\n",
        "\n",
        "    # Simulate dynamic probabilities\n",
        "    probas = simulate_proba(inputs)\n",
        "    pred = np.argmax(probas)\n",
        "\n",
        "    # Risk labels and colors\n",
        "    risk_labels = {0: (\"Low Risk\", \"green\"), 1: (\"Moderate Risk\", \"orange\"), 2: (\"High Risk\", \"red\")}\n",
        "    label, color = risk_labels[pred]\n",
        "\n",
        "    # Recommendations\n",
        "    recs = {\n",
        "        0: \"Maintain healthy habits and monitor stress levels.\",\n",
        "        1: \"Consider talking to a counselor. Monitor your mood and social interactions.\",\n",
        "        2: \"Immediate consultation recommended. Prioritize stress management and seek support.\"\n",
        "    }\n",
        "\n",
        "    # Determine factor colors dynamically\n",
        "    factor_colors = []\n",
        "    for c in contribs:\n",
        "        if c >= 0.5:\n",
        "            factor_colors.append(\"red\")\n",
        "        elif c >= 0.25:\n",
        "            factor_colors.append(\"orange\")\n",
        "        else:\n",
        "            factor_colors.append(\"green\")\n",
        "\n",
        "    # Create output HTML\n",
        "    result_html = f\"\"\"\n",
        "    <div style='font-size:20px; font-weight:bold; color:{color};'>\n",
        "        Predicted Class: {pred} ({label})<br>\n",
        "        Confidence: {max(probas):.2f}<br><br>\n",
        "    </div>\n",
        "    <div style='font-size:16px;'>\n",
        "        <b>Main Risk Factors:</b><br>\n",
        "    \"\"\"\n",
        "    for i, f in enumerate(feature_names):\n",
        "        result_html += f\"<span style='color:{factor_colors[i]};'>- {f}: {contribs[i]*100:.1f}% contribution</span><br>\"\n",
        "\n",
        "    result_html += f\"<br><b>Recommendation:</b> {recs[pred]}</div>\"\n",
        "\n",
        "    # Chart\n",
        "    contrib_chart = plot_contributions(contribs, feature_names)\n",
        "\n",
        "    return result_html + contrib_chart"
      ],
      "metadata": {
        "id": "_Aa21EPZ5GjZ"
      },
      "execution_count": null,
      "outputs": []
    },
    {
      "cell_type": "code",
      "source": [
        "# Gradio Interface\n",
        "iface = gr.Interface(\n",
        "    fn=predict_risk_final,\n",
        "    inputs=[\n",
        "        gr.Number(label=\"Growing Stress\", value=1),\n",
        "        gr.Number(label=\"Mood Swings\", value=1),\n",
        "        gr.Number(label=\"Social Weakness\", value=1),\n",
        "        gr.Dropdown([\"Logistic Regression\", \"Tabular Neural Network\"], label=\"Model Selection\")\n",
        "    ],\n",
        "    outputs=gr.HTML(),\n",
        "    allow_flagging=\"never\",\n",
        "    title=\"Mental Health Risk Assessment Web App\"\n",
        ")\n",
        "\n",
        "iface.launch()"
      ],
      "metadata": {
        "colab": {
          "base_uri": "https://localhost:8080/",
          "height": 680
        },
        "id": "o4rHZ6SO5RFA",
        "outputId": "19f7931c-d403-427d-9ac3-b87bacaaee58"
      },
      "execution_count": null,
      "outputs": [
        {
          "output_type": "stream",
          "name": "stderr",
          "text": [
            "/usr/local/lib/python3.11/dist-packages/gradio/interface.py:416: UserWarning: The `allow_flagging` parameter in `Interface` is deprecated.Use `flagging_mode` instead.\n",
            "  warnings.warn(\n"
          ]
        },
        {
          "output_type": "stream",
          "name": "stdout",
          "text": [
            "It looks like you are running Gradio on a hosted a Jupyter notebook. For the Gradio app to work, sharing must be enabled. Automatically setting `share=True` (you can turn this off by setting `share=False` in `launch()` explicitly).\n",
            "\n",
            "Colab notebook detected. To show errors in colab notebook, set debug=True in launch()\n",
            "* Running on public URL: https://2fe27b9453114414b6.gradio.live\n",
            "\n",
            "This share link expires in 1 week. For free permanent hosting and GPU upgrades, run `gradio deploy` from the terminal in the working directory to deploy to Hugging Face Spaces (https://huggingface.co/spaces)\n"
          ]
        },
        {
          "output_type": "display_data",
          "data": {
            "text/plain": [
              "<IPython.core.display.HTML object>"
            ],
            "text/html": [
              "<div><iframe src=\"https://2fe27b9453114414b6.gradio.live\" width=\"100%\" height=\"500\" allow=\"autoplay; camera; microphone; clipboard-read; clipboard-write;\" frameborder=\"0\" allowfullscreen></iframe></div>"
            ]
          },
          "metadata": {}
        },
        {
          "output_type": "execute_result",
          "data": {
            "text/plain": []
          },
          "metadata": {},
          "execution_count": 64
        }
      ]
    }
  ]
}