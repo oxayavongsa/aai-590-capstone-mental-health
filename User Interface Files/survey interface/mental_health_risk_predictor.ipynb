{
  "nbformat": 4,
  "nbformat_minor": 0,
  "metadata": {
    "colab": {
      "provenance": [],
      "machine_shape": "hm",
      "gpuType": "A100",
      "authorship_tag": "ABX9TyP5sYJL5O+lKLlW+1LsFg+/",
      "include_colab_link": true
    },
    "kernelspec": {
      "name": "python3",
      "display_name": "Python 3"
    },
    "language_info": {
      "name": "python"
    },
    "accelerator": "GPU"
  },
  "cells": [
    {
      "cell_type": "markdown",
      "metadata": {
        "id": "view-in-github",
        "colab_type": "text"
      },
      "source": [
        "<a href=\"https://colab.research.google.com/github/oxayavongsa/aai-590-capstone-mental-health/blob/main/mental_health_risk_predictor.ipynb\" target=\"_parent\"><img src=\"https://colab.research.google.com/assets/colab-badge.svg\" alt=\"Open In Colab\"/></a>"
      ]
    },
    {
      "cell_type": "markdown",
      "source": [
        "# Mental Health Risk Predictor (Front-End Demo)"
      ],
      "metadata": {
        "id": "te9degVzuHKH"
      }
    },
    {
      "cell_type": "markdown",
      "source": [
        "Demo only - not for production"
      ],
      "metadata": {
        "id": "pJGlR30zfbKw"
      }
    },
    {
      "cell_type": "code",
      "source": [
        "#!pip install gradio openai joblib"
      ],
      "metadata": {
        "id": "2B7E8DnWh6mH"
      },
      "execution_count": 1,
      "outputs": []
    },
    {
      "cell_type": "code",
      "source": [
        "import gradio as gr\n",
        "import joblib\n",
        "import numpy as np\n",
        "import pandas as pd\n",
        "import openai\n",
        "import os\n",
        "\n",
        "# Load trained model pipeline\n",
        "model = joblib.load(\"logistic_pipeline_model.pkl\")\n",
        "\n",
        "# Set your OpenAI key\n",
        "client = openai.OpenAI(api_key=\"ADD YOUR OPEN AI API KEY HERE\")"
      ],
      "metadata": {
        "id": "spWDpK1YVNYL"
      },
      "execution_count": 2,
      "outputs": []
    },
    {
      "cell_type": "code",
      "source": [
        "# Extract the first step (PolynomialFeatures) from the pipeline\n",
        "poly = model.named_steps['poly']\n",
        "\n",
        "# Get input feature names (before polynomial expansion)\n",
        "base_feature_names = poly.feature_names_in_.tolist()\n",
        "\n",
        "# Get expanded feature names after PolynomialFeatures\n",
        "expanded_feature_names = poly.get_feature_names_out().tolist()\n",
        "\n",
        "base_feature_names"
      ],
      "metadata": {
        "colab": {
          "base_uri": "https://localhost:8080/"
        },
        "id": "TcQ2bqhyXbGL",
        "outputId": "3e162c57-64c8-49c1-cf90-ae83c38ff365"
      },
      "execution_count": 3,
      "outputs": [
        {
          "output_type": "execute_result",
          "data": {
            "text/plain": [
              "['Gender',\n",
              " 'family_history',\n",
              " 'treatment',\n",
              " 'Growing_Stress',\n",
              " 'Mental_Health_History',\n",
              " 'Mood_Swings',\n",
              " 'Coping_Struggles',\n",
              " 'Work_Interest']"
            ]
          },
          "metadata": {},
          "execution_count": 3
        }
      ]
    },
    {
      "cell_type": "code",
      "source": [
        "# 🔮 GPT-generated encouragement message using OpenAI v1+\n",
        "def generate_response(risk, recommendation):\n",
        "    try:\n",
        "        prompt = (\n",
        "            f\"You were assessed with a {risk} level of mental health risk. \"\n",
        "            f\"Recommendation: {recommendation}\\n\"\n",
        "            f\"Write a warm, emotionally intelligent, and uplifting message to the user.\"\n",
        "        )\n",
        "\n",
        "        response = client.chat.completions.create(\n",
        "            model=\"gpt-4\",  # Change to \"gpt-3.5-turbo\" if needed\n",
        "            messages=[{\"role\": \"user\", \"content\": prompt}],\n",
        "            temperature=0.75,\n",
        "            max_tokens=150\n",
        "        )\n",
        "\n",
        "        return response.choices[0].message.content\n",
        "\n",
        "    except Exception as e:\n",
        "        return f\"Error generating message: {str(e)}\"\n",
        "\n",
        "# 🧠 Main function for prediction\n",
        "def predict_risk(\n",
        "    diagnosis, interest_level, stress_level, swings, coping, treatment, family, gender\n",
        "):\n",
        "    try:\n",
        "        # Map categorical answers to model-ready numbers\n",
        "        interest_map = {\n",
        "            \"Very low\": 1,\n",
        "            \"Somewhat low\": 3,\n",
        "            \"Neutral\": 5,\n",
        "            \"Somewhat high\": 7,\n",
        "            \"Very high\": 9\n",
        "        }\n",
        "        stress_map = {\n",
        "            \"No increase\": 1,\n",
        "            \"Slight increase\": 3,\n",
        "            \"Moderate increase\": 5,\n",
        "            \"Significant increase\": 7,\n",
        "            \"Extreme increase\": 9\n",
        "        }\n",
        "\n",
        "        feature_values = [\n",
        "            {\"Female\": 0, \"Male\": 1, \"Other\": 2}[gender],           # Gender\n",
        "            1 if family == \"Yes\" else 0,                             # family_history\n",
        "            1 if treatment == \"Yes\" else 0,                          # treatment\n",
        "            stress_map[stress_level],                                # Growing_Stress\n",
        "            1 if diagnosis == \"Yes\" else 0,                          # Mental_Health_History\n",
        "            1 if swings == \"Yes\" else 0,                             # Mood_Swings\n",
        "            1 if coping == \"Yes\" else 0,                             # Coping_Struggles\n",
        "            interest_map[interest_level]                             # Work_Interest\n",
        "        ]\n",
        "\n",
        "        # Use exact feature names from model training\n",
        "        column_names = [\n",
        "            'Gender',\n",
        "            'family_history',\n",
        "            'treatment',\n",
        "            'Growing_Stress',\n",
        "            'Mental_Health_History',\n",
        "            'Mood_Swings',\n",
        "            'Coping_Struggles',\n",
        "            'Work_Interest'\n",
        "        ]\n",
        "\n",
        "        input_df = pd.DataFrame([feature_values], columns=column_names)\n",
        "\n",
        "        # Get prediction from model\n",
        "        prediction = model.predict(input_df)[0]\n",
        "        label_map = {0: \"Moderate Risk\", 1: \"Low Risk\", 2: \"High Risk\"}\n",
        "        risk_label = label_map[prediction]\n",
        "\n",
        "        recommendation_map = {\n",
        "            \"Moderate Risk\": \"Try to maintain balance and consider periodic self-assessments or speaking with a counselor.\",\n",
        "            \"Low Risk\": \"You appear emotionally stable. Keep up healthy habits and self-care.\",\n",
        "            \"High Risk\": \"We encourage reaching out to a licensed mental health professional for support.\"\n",
        "        }\n",
        "\n",
        "        recommendation = recommendation_map[risk_label]\n",
        "        gpt_message = generate_response(risk_label, recommendation)\n",
        "\n",
        "        return risk_label, recommendation, gpt_message\n",
        "\n",
        "    except Exception as e:\n",
        "        return \"Error\", \"There was a problem processing your input.\", str(e)"
      ],
      "metadata": {
        "id": "wndr8WQsVNWM"
      },
      "execution_count": 4,
      "outputs": []
    },
    {
      "cell_type": "code",
      "source": [
        "# 🎨 Gradio App UI\n",
        "with gr.Blocks(theme=gr.themes.Soft()) as demo:\n",
        "    gr.Markdown(\"## 🧠 Mental Health Risk Predictor\")\n",
        "    gr.Markdown(\"Answer a few short questions to receive your mental health risk level, a helpful recommendation, and an AI-generated message of encouragement.\")\n",
        "\n",
        "    with gr.Row():\n",
        "        diagnosis = gr.Radio([\"Yes\", \"No\"], label=\"Have you ever been diagnosed with a mental health condition?\")\n",
        "        interest_level = gr.Radio(\n",
        "            [\"Very low\", \"Somewhat low\", \"Neutral\", \"Somewhat high\", \"Very high\"],\n",
        "            label=\"How interested are you in your work or daily activities?\"\n",
        "        )\n",
        "        stress_level = gr.Radio(\n",
        "            [\"No increase\", \"Slight increase\", \"Moderate increase\", \"Significant increase\", \"Extreme increase\"],\n",
        "            label=\"How much has your stress level increased recently?\"\n",
        "        )\n",
        "\n",
        "    with gr.Row():\n",
        "        swings = gr.Radio([\"Yes\", \"No\"], label=\"Have you been experiencing frequent mood swings?\")\n",
        "        coping = gr.Radio([\"Yes\", \"No\"], label=\"Are you struggling to cope with daily challenges?\")\n",
        "        treatment = gr.Radio([\"Yes\", \"No\"], label=\"Are you currently receiving mental health treatment?\")\n",
        "\n",
        "    with gr.Row():\n",
        "        family = gr.Radio([\"Yes\", \"No\"], label=\"Does your family have a history of mental health issues?\")\n",
        "        gender = gr.Radio([\"Female\", \"Male\", \"Other\"], label=\"What is your gender?\")\n",
        "\n",
        "    submit_btn = gr.Button(\"Assess My Risk\")\n",
        "\n",
        "    risk_output = gr.Textbox(label=\"🧭 Your Risk Level\")\n",
        "    reco_output = gr.Textbox(label=\"📌 Recommendation\")\n",
        "    gpt_output = gr.Textbox(label=\"💬 AI-Powered Encouragement\", lines=5)\n",
        "\n",
        "    submit_btn.click(\n",
        "        fn=predict_risk,\n",
        "        inputs=[diagnosis, interest_level, stress_level, swings, coping, treatment, family, gender],\n",
        "        outputs=[risk_output, reco_output, gpt_output]\n",
        "    )\n",
        "\n",
        "demo.launch(share=True)"
      ],
      "metadata": {
        "colab": {
          "base_uri": "https://localhost:8080/",
          "height": 611
        },
        "id": "UWKTx8BNW4GE",
        "outputId": "e9234100-a6be-4372-f789-051297ef1514"
      },
      "execution_count": 5,
      "outputs": [
        {
          "output_type": "stream",
          "name": "stdout",
          "text": [
            "Colab notebook detected. To show errors in colab notebook, set debug=True in launch()\n",
            "* Running on public URL: https://b4679ae1afd1716590.gradio.live\n",
            "\n",
            "This share link expires in 1 week. For free permanent hosting and GPU upgrades, run `gradio deploy` from the terminal in the working directory to deploy to Hugging Face Spaces (https://huggingface.co/spaces)\n"
          ]
        },
        {
          "output_type": "display_data",
          "data": {
            "text/plain": [
              "<IPython.core.display.HTML object>"
            ],
            "text/html": [
              "<div><iframe src=\"https://b4679ae1afd1716590.gradio.live\" width=\"100%\" height=\"500\" allow=\"autoplay; camera; microphone; clipboard-read; clipboard-write;\" frameborder=\"0\" allowfullscreen></iframe></div>"
            ]
          },
          "metadata": {}
        },
        {
          "output_type": "execute_result",
          "data": {
            "text/plain": []
          },
          "metadata": {},
          "execution_count": 5
        }
      ]
    },
    {
      "cell_type": "code",
      "source": [],
      "metadata": {
        "id": "y2orMdt2VNO9"
      },
      "execution_count": 5,
      "outputs": []
    },
    {
      "cell_type": "code",
      "source": [],
      "metadata": {
        "id": "lgLkZ-A-VNMQ"
      },
      "execution_count": 5,
      "outputs": []
    },
    {
      "cell_type": "code",
      "source": [],
      "metadata": {
        "id": "aSoh5GPNVNJj"
      },
      "execution_count": 5,
      "outputs": []
    },
    {
      "cell_type": "code",
      "source": [],
      "metadata": {
        "id": "oAd8URzmVNG3"
      },
      "execution_count": 5,
      "outputs": []
    }
  ]
}