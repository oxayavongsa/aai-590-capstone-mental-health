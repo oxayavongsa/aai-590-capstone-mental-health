{
  "nbformat": 4,
  "nbformat_minor": 0,
  "metadata": {
    "colab": {
      "provenance": [],
      "gpuType": "L4",
      "authorship_tag": "ABX9TyPSkNOZ294byBFFjfmtxp3n",
      "include_colab_link": true
    },
    "kernelspec": {
      "name": "python3",
      "display_name": "Python 3"
    },
    "language_info": {
      "name": "python"
    },
    "accelerator": "GPU"
  },
  "cells": [
    {
      "cell_type": "markdown",
      "metadata": {
        "id": "view-in-github",
        "colab_type": "text"
      },
      "source": [
        "<a href=\"https://colab.research.google.com/github/oxayavongsa/aai-590-capstone-mental-health/blob/main/User%20Interface%20Files/survey%20interface/mental_health_risk_predictor_2.ipynb\" target=\"_parent\"><img src=\"https://colab.research.google.com/assets/colab-badge.svg\" alt=\"Open In Colab\"/></a>"
      ]
    },
    {
      "cell_type": "markdown",
      "source": [
        "# Mental Health Risk Predictor (Demo Only)"
      ],
      "metadata": {
        "id": "te9degVzuHKH"
      }
    },
    {
      "cell_type": "code",
      "source": [
        "#!pip install gradio openai joblib"
      ],
      "metadata": {
        "id": "2B7E8DnWh6mH"
      },
      "execution_count": 1,
      "outputs": []
    },
    {
      "cell_type": "code",
      "source": [
        "import openai\n",
        "import os\n",
        "import gradio as gr\n",
        "import joblib\n",
        "import numpy as np\n",
        "import pandas as pd\n",
        "import matplotlib.pyplot as plt\n",
        "\n",
        "# Load trained model pipeline\n",
        "model = joblib.load(\"logistic_pipeline_model.pkl\")\n",
        "\n",
        "# Set your OpenAI key\n",
        "#client = openai.OpenAI(api_key=\"ADD YOUR OPEN AI API KEY HERE\")"
      ],
      "metadata": {
        "id": "spWDpK1YVNYL"
      },
      "execution_count": 14,
      "outputs": []
    },
    {
      "cell_type": "code",
      "source": [
        "# Extract PolynomialFeatures from the pipeline\n",
        "poly = model.named_steps['poly']\n",
        "base_feature_names = poly.feature_names_in_.tolist()\n",
        "expanded_feature_names = poly.get_feature_names_out().tolist()\n",
        "base_feature_names"
      ],
      "metadata": {
        "colab": {
          "base_uri": "https://localhost:8080/"
        },
        "id": "TcQ2bqhyXbGL",
        "outputId": "c20bdd20-6977-44ba-ecb8-b226678521ea"
      },
      "execution_count": 3,
      "outputs": [
        {
          "output_type": "execute_result",
          "data": {
            "text/plain": [
              "['Gender',\n",
              " 'family_history',\n",
              " 'treatment',\n",
              " 'Growing_Stress',\n",
              " 'Mental_Health_History',\n",
              " 'Mood_Swings',\n",
              " 'Coping_Struggles',\n",
              " 'Work_Interest']"
            ]
          },
          "metadata": {},
          "execution_count": 3
        }
      ]
    },
    {
      "cell_type": "markdown",
      "source": [
        "### Chart Plotting Function"
      ],
      "metadata": {
        "id": "xGGCk6yxX1DL"
      }
    },
    {
      "cell_type": "code",
      "source": [
        "# Plotting function\n",
        "def plot_risk_contributions(input_df, model):\n",
        "    try:\n",
        "        clf = model.named_steps['clf']\n",
        "        coef = clf.coef_[0]\n",
        "        input_array = input_df.values.flatten()\n",
        "        contributions = coef * input_array\n",
        "\n",
        "        contrib_df = pd.DataFrame({\n",
        "            \"Feature\": input_df.columns,\n",
        "            \"Contribution\": contributions\n",
        "        })\n",
        "        contrib_df[\"AbsContribution\"] = np.abs(contrib_df[\"Contribution\"])\n",
        "        contrib_df = contrib_df.sort_values(\"AbsContribution\", ascending=False).head(5)\n",
        "\n",
        "        fig, ax = plt.subplots(figsize=(7, 4))\n",
        "        bars = ax.bar(contrib_df[\"Feature\"], contrib_df[\"AbsContribution\"], color='skyblue')\n",
        "        for i, bar in enumerate(bars):\n",
        "            height = bar.get_height()\n",
        "            ax.text(bar.get_x() + bar.get_width() / 2.0, height + 0.01, f\"{height:.2f}\", ha='center', fontsize=9)\n",
        "\n",
        "        ax.set_title(\"Top Risk Factor Contributions\")\n",
        "        ax.set_ylabel(\"Contribution Score\")\n",
        "        ax.set_xticks(range(len(contrib_df)))\n",
        "        ax.set_xticklabels(contrib_df[\"Feature\"], rotation=45)\n",
        "        fig.tight_layout()\n",
        "        plt.close(fig)\n",
        "\n",
        "        return fig\n",
        "    except Exception as e:\n",
        "        print(f\"Chart Error: {e}\")\n",
        "        return None"
      ],
      "metadata": {
        "id": "mcPPGGHUCVbh"
      },
      "execution_count": 4,
      "outputs": []
    },
    {
      "cell_type": "markdown",
      "source": [
        "### Main Prediction Logic"
      ],
      "metadata": {
        "id": "0Jr9SOUJX_8X"
      }
    },
    {
      "cell_type": "code",
      "source": [
        "# Main prediction logic\n",
        "def predict_risk(diagnosis, interest_level, stress_level, swings, coping, treatment, family, gender):\n",
        "    try:\n",
        "        interest_map = {\"Very low\": 1, \"Somewhat low\": 3, \"Neutral\": 5, \"Somewhat high\": 7, \"Very high\": 9}\n",
        "        stress_map = {\"No increase\": 1, \"Slight increase\": 3, \"Moderate increase\": 5, \"Significant increase\": 7, \"Extreme increase\": 9}\n",
        "\n",
        "        feature_values = [\n",
        "            {\"Female\": 0, \"Male\": 1, \"Other\": 2}[gender],\n",
        "            1 if family == \"Yes\" else 0,\n",
        "            1 if treatment == \"Yes\" else 0,\n",
        "            stress_map[stress_level],\n",
        "            1 if diagnosis == \"Yes\" else 0,\n",
        "            1 if swings == \"Yes\" else 0,\n",
        "            1 if coping == \"Yes\" else 0,\n",
        "            interest_map[interest_level]\n",
        "        ]\n",
        "\n",
        "        column_names = [\n",
        "            'Gender', 'family_history', 'treatment', 'Growing_Stress',\n",
        "            'Mental_Health_History', 'Mood_Swings', 'Coping_Struggles', 'Work_Interest'\n",
        "        ]\n",
        "        input_df = pd.DataFrame([feature_values], columns=column_names)\n",
        "\n",
        "        prediction = model.predict(input_df)[0]\n",
        "        label_map = {\n",
        "            0: (\"Low Risk 😌\", \"#d4edda\"),\n",
        "            1: (\"Moderate Risk 😐\", \"#fff3cd\"),\n",
        "            2: (\"High Risk 😟\", \"#f8d7da\")\n",
        "        }\n",
        "        plain_label = {0: \"Low Risk\", 1: \"Moderate Risk\", 2: \"High Risk\"}[prediction]\n",
        "\n",
        "        recommendation_map = {\n",
        "            \"Low Risk\": \"You appear emotionally stable. Keep up healthy habits and self-care.\",\n",
        "            \"Moderate Risk\": \"Try to maintain balance and consider periodic self-assessments or speaking with a counselor.\",\n",
        "            \"High Risk\": \"We encourage reaching out to a licensed mental health professional for support.\"\n",
        "        }\n",
        "\n",
        "        risk_label, bg_color = label_map[prediction]\n",
        "        recommendation = recommendation_map[plain_label]\n",
        "\n",
        "        stress_score = stress_map[stress_level] / 9 * 100\n",
        "        emotion_score = 85 if swings == \"Yes\" else 60\n",
        "        social_score = 100 - interest_map[interest_level] * 10\n",
        "        emotional_type = \"Resilient but Overwhelmed\" if prediction == 2 else (\n",
        "            \"Stable with Fluctuations\" if prediction == 1 else \"Emotionally Balanced\")\n",
        "\n",
        "        snapshot_html = f\"\"\"\n",
        "        <div style='background-color:{bg_color}; border-radius:10px; padding:15px;'>\n",
        "        <h4><b>🧠 Emotional Type:</b> {emotional_type}</h4>\n",
        "        <ul>\n",
        "        <li><b>Stress-Prone:</b> {stress_score:.0f}%</li>\n",
        "        <li><b>Emotionally Aware:</b> {emotion_score}%</li>\n",
        "        <li><b>Social Sensitivity:</b> {social_score}%</li>\n",
        "        </ul>\n",
        "        <i>You may feel deeply and prioritize others. Take space to breathe and be kind to yourself.</i>\n",
        "        </div>\n",
        "        \"\"\"\n",
        "\n",
        "        chart = plot_risk_contributions(input_df, model)\n",
        "        return risk_label, recommendation, snapshot_html, chart\n",
        "\n",
        "    except Exception as e:\n",
        "        print(f\"Exception: {str(e)}\")\n",
        "        return \"Error\", \"Problem with your input.\", f\"Error: {str(e)}\", None"
      ],
      "metadata": {
        "id": "q7M8L24GVI8g"
      },
      "execution_count": 12,
      "outputs": []
    },
    {
      "cell_type": "markdown",
      "source": [
        "### Build Gradio Interface"
      ],
      "metadata": {
        "id": "6MxETdYkbGzK"
      }
    },
    {
      "cell_type": "code",
      "source": [
        "# Gradio UI\n",
        "def build_interface():\n",
        "    with gr.Blocks(theme=gr.themes.Soft()) as demo:\n",
        "        gr.Markdown(\"## 🧠 Mental Health Risk Predictor\")\n",
        "        gr.Markdown(\"Answer a few questions to get your mental health risk level, recommendation, and personality snapshot.\")\n",
        "\n",
        "        with gr.Row():\n",
        "            diagnosis = gr.Radio([\"Yes\", \"No\"], label=\"Diagnosed with mental health condition?\")\n",
        "            interest = gr.Radio([\"Very low\", \"Somewhat low\", \"Neutral\", \"Somewhat high\", \"Very high\"], label=\"Interest in work or daily activities\")\n",
        "            stress = gr.Radio([\"No increase\", \"Slight increase\", \"Moderate increase\", \"Significant increase\", \"Extreme increase\"], label=\"Recent stress increase\")\n",
        "\n",
        "        with gr.Row():\n",
        "            swings = gr.Radio([\"Yes\", \"No\"], label=\"Frequent mood swings?\")\n",
        "            coping = gr.Radio([\"Yes\", \"No\"], label=\"Struggling to cope with challenges?\")\n",
        "            treatment = gr.Radio([\"Yes\", \"No\"], label=\"Currently receiving treatment?\")\n",
        "\n",
        "        with gr.Row():\n",
        "            family = gr.Radio([\"Yes\", \"No\"], label=\"Family history of mental health issues?\")\n",
        "            gender = gr.Radio([\"Female\", \"Male\", \"Other\"], label=\"Gender\")\n",
        "\n",
        "        submit = gr.Button(\"Assess My Risk\", variant=\"primary\")\n",
        "\n",
        "        risk_box = gr.Textbox(label=\"Risk Level\")\n",
        "        reco_box = gr.Textbox(label=\"Recommendation\")\n",
        "        snapshot_box = gr.HTML(label=\"Personality Snapshot\")\n",
        "        chart_output = gr.Plot(label=\"Top Risk Contributors\")\n",
        "\n",
        "        submit.click(\n",
        "            fn=predict_risk,\n",
        "            inputs=[diagnosis, interest, stress, swings, coping, treatment, family, gender],\n",
        "            outputs=[risk_box, reco_box, snapshot_box, chart_output]\n",
        "        )\n",
        "    return demo\n",
        "\n",
        "# Launch app\n",
        "demo = build_interface()\n",
        "demo.launch(share=True)"
      ],
      "metadata": {
        "colab": {
          "base_uri": "https://localhost:8080/",
          "height": 611
        },
        "id": "UWKTx8BNW4GE",
        "outputId": "fbd2b86e-e147-477e-bd17-1192f3f5e22f"
      },
      "execution_count": 13,
      "outputs": [
        {
          "output_type": "stream",
          "name": "stdout",
          "text": [
            "Colab notebook detected. To show errors in colab notebook, set debug=True in launch()\n",
            "* Running on public URL: https://ea42613777003aa15b.gradio.live\n",
            "\n",
            "This share link expires in 1 week. For free permanent hosting and GPU upgrades, run `gradio deploy` from the terminal in the working directory to deploy to Hugging Face Spaces (https://huggingface.co/spaces)\n"
          ]
        },
        {
          "output_type": "display_data",
          "data": {
            "text/plain": [
              "<IPython.core.display.HTML object>"
            ],
            "text/html": [
              "<div><iframe src=\"https://ea42613777003aa15b.gradio.live\" width=\"100%\" height=\"500\" allow=\"autoplay; camera; microphone; clipboard-read; clipboard-write;\" frameborder=\"0\" allowfullscreen></iframe></div>"
            ]
          },
          "metadata": {}
        },
        {
          "output_type": "execute_result",
          "data": {
            "text/plain": []
          },
          "metadata": {},
          "execution_count": 13
        }
      ]
    }
  ]
}